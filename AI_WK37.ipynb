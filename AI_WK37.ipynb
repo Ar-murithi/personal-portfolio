{
  "nbformat": 4,
  "nbformat_minor": 0,
  "metadata": {
    "colab": {
      "provenance": [],
      "authorship_tag": "ABX9TyOx8/AuI8o85zrFkW/v4spG",
      "include_colab_link": true
    },
    "kernelspec": {
      "name": "python3",
      "display_name": "Python 3"
    },
    "language_info": {
      "name": "python"
    }
  },
  "cells": [
    {
      "cell_type": "markdown",
      "metadata": {
        "id": "view-in-github",
        "colab_type": "text"
      },
      "source": [
        "<a href=\"https://colab.research.google.com/github/Ar-murithi/personal-portfolio/blob/main/AI_WK37.ipynb\" target=\"_parent\"><img src=\"https://colab.research.google.com/assets/colab-badge.svg\" alt=\"Open In Colab\"/></a>"
      ]
    },
    {
      "cell_type": "code",
      "execution_count": 1,
      "metadata": {
        "colab": {
          "base_uri": "https://localhost:8080/"
        },
        "id": "NWEhBiYsSUaN",
        "outputId": "e92a7098-1588-4adf-c3e4-59dfa872e243"
      },
      "outputs": [
        {
          "output_type": "stream",
          "name": "stdout",
          "text": [
            "\n",
            "📄 Review: I love my new Apple iPhone 14 Pro Max. The camera is incredible!\n",
            "🔍 Extracted Entities (Products/Brands):\n",
            " - Apple (ORG)\n",
            "💬 Sentiment: Positive\n",
            "\n",
            "📄 Review: The Samsung Galaxy S22 is overpriced and slow. Not impressed.\n",
            "🔍 Extracted Entities (Products/Brands):\n",
            " - No product or brand entity detected.\n",
            "💬 Sentiment: Negative\n",
            "\n",
            "📄 Review: Just bought the Sony WH-1000XM5 headphones. Amazing noise cancellation!\n",
            "🔍 Extracted Entities (Products/Brands):\n",
            " - Sony (ORG)\n",
            "💬 Sentiment: Positive\n",
            "\n",
            "📄 Review: Avoid the HP laptop. Battery drains too quickly and heats up.\n",
            "🔍 Extracted Entities (Products/Brands):\n",
            " - HP (ORG)\n",
            "💬 Sentiment: Negative\n",
            "\n",
            "📄 Review: My Logitech mouse is super responsive and easy to set up.\n",
            "🔍 Extracted Entities (Products/Brands):\n",
            " - Logitech (ORG)\n",
            "💬 Sentiment: Positive\n",
            "\n",
            "📄 Review: This Dell monitor is blurry and has poor color contrast.\n",
            "🔍 Extracted Entities (Products/Brands):\n",
            " - No product or brand entity detected.\n",
            "💬 Sentiment: Negative\n"
          ]
        }
      ],
      "source": [
        "import spacy\n",
        "\n",
        "# Load spaCy English model\n",
        "nlp = spacy.load(\"en_core_web_sm\")\n",
        "\n",
        "# Sample Amazon reviews\n",
        "reviews = [\n",
        "    \"I love my new Apple iPhone 14 Pro Max. The camera is incredible!\",\n",
        "    \"The Samsung Galaxy S22 is overpriced and slow. Not impressed.\",\n",
        "    \"Just bought the Sony WH-1000XM5 headphones. Amazing noise cancellation!\",\n",
        "    \"Avoid the HP laptop. Battery drains too quickly and heats up.\",\n",
        "    \"My Logitech mouse is super responsive and easy to set up.\",\n",
        "    \"This Dell monitor is blurry and has poor color contrast.\",\n",
        "]\n",
        "\n",
        "# Rule-based sentiment analyzer\n",
        "def rule_based_sentiment(text):\n",
        "    positive_words = [\"love\", \"amazing\", \"incredible\", \"great\", \"responsive\", \"easy\", \"super\"]\n",
        "    negative_words = [\"avoid\", \"overpriced\", \"slow\", \"blurry\", \"poor\", \"not impressed\", \"drains\", \"heats\"]\n",
        "\n",
        "    text_lower = text.lower()\n",
        "    score = 0\n",
        "    for word in positive_words:\n",
        "        if word in text_lower:\n",
        "            score += 1\n",
        "    for word in negative_words:\n",
        "        if word in text_lower:\n",
        "            score -= 1\n",
        "\n",
        "    if score > 0:\n",
        "        return \"Positive\"\n",
        "    elif score < 0:\n",
        "        return \"Negative\"\n",
        "    else:\n",
        "        return \"Neutral\"\n",
        "\n",
        "# Process each review\n",
        "for review in reviews:\n",
        "    doc = nlp(review)\n",
        "    print(f\"\\n📄 Review: {review}\")\n",
        "\n",
        "    # Named Entity Recognition\n",
        "    print(\"🔍 Extracted Entities (Products/Brands):\")\n",
        "    found = False\n",
        "    for ent in doc.ents:\n",
        "        if ent.label_ in [\"ORG\", \"PRODUCT\"]:\n",
        "            print(f\" - {ent.text} ({ent.label_})\")\n",
        "            found = True\n",
        "    if not found:\n",
        "        print(\" - No product or brand entity detected.\")\n",
        "\n",
        "    # Sentiment Analysis\n",
        "    sentiment = rule_based_sentiment(review)\n",
        "    print(f\"💬 Sentiment: {sentiment}\")\n"
      ]
    }
  ]
}